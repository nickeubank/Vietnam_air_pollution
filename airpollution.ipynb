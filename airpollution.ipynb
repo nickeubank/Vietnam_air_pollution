{
 "cells": [
  {
   "cell_type": "code",
   "execution_count": 1,
   "metadata": {},
   "outputs": [],
   "source": [
    "import geopandas as gpd\n",
    "import pandas as pd\n",
    "import glob, os"
   ]
  },
  {
   "cell_type": "code",
   "execution_count": 2,
   "metadata": {},
   "outputs": [
    {
     "name": "stdout",
     "output_type": "stream",
     "text": [
      "EPSG:4326\n"
     ]
    }
   ],
   "source": [
    "sf = gpd.read_file('./vnm_adm_gov_20201027/vnm_admbnda_adm1_gov_20201027.shp')\n",
    "print(sf.crs) # Check EPSG / CRS -- epsg:4326 = WGS 84"
   ]
  },
  {
   "cell_type": "code",
   "execution_count": 3,
   "metadata": {},
   "outputs": [
    {
     "name": "stdout",
     "output_type": "stream",
     "text": [
      "shape_leng     float64\n",
      "shape_area     float64\n",
      "adm1_en         object\n",
      "adm1_vi         object\n",
      "adm1_pcode      object\n",
      "adm1_ref        object\n",
      "adm1alt1en      object\n",
      "adm1alt2en      object\n",
      "adm1alt1vi      object\n",
      "adm1alt2vi      object\n",
      "adm0_en         object\n",
      "adm0_vi         object\n",
      "adm0_pcode      object\n",
      "date            object\n",
      "validon         object\n",
      "validto         object\n",
      "geometry      geometry\n",
      "dtype: object\n",
      "63\n"
     ]
    },
    {
     "data": {
      "text/html": [
       "<div>\n",
       "<style scoped>\n",
       "    .dataframe tbody tr th:only-of-type {\n",
       "        vertical-align: middle;\n",
       "    }\n",
       "\n",
       "    .dataframe tbody tr th {\n",
       "        vertical-align: top;\n",
       "    }\n",
       "\n",
       "    .dataframe thead th {\n",
       "        text-align: right;\n",
       "    }\n",
       "</style>\n",
       "<table border=\"1\" class=\"dataframe\">\n",
       "  <thead>\n",
       "    <tr style=\"text-align: right;\">\n",
       "      <th></th>\n",
       "      <th>shape_leng</th>\n",
       "      <th>shape_area</th>\n",
       "      <th>adm1_en</th>\n",
       "      <th>adm1_vi</th>\n",
       "      <th>adm1_pcode</th>\n",
       "      <th>adm1_ref</th>\n",
       "      <th>adm1alt1en</th>\n",
       "      <th>adm1alt2en</th>\n",
       "      <th>adm1alt1vi</th>\n",
       "      <th>adm1alt2vi</th>\n",
       "      <th>adm0_en</th>\n",
       "      <th>adm0_vi</th>\n",
       "      <th>adm0_pcode</th>\n",
       "      <th>date</th>\n",
       "      <th>validon</th>\n",
       "      <th>validto</th>\n",
       "      <th>geometry</th>\n",
       "    </tr>\n",
       "  </thead>\n",
       "  <tbody>\n",
       "    <tr>\n",
       "      <th>0</th>\n",
       "      <td>2.900742</td>\n",
       "      <td>0.292040</td>\n",
       "      <td>An Giang</td>\n",
       "      <td>An Giang</td>\n",
       "      <td>VN805</td>\n",
       "      <td>None</td>\n",
       "      <td>None</td>\n",
       "      <td>None</td>\n",
       "      <td>None</td>\n",
       "      <td>None</td>\n",
       "      <td>Viet Nam</td>\n",
       "      <td>Việt Nam</td>\n",
       "      <td>VN</td>\n",
       "      <td>2019-10-01</td>\n",
       "      <td>2020-01-03</td>\n",
       "      <td>None</td>\n",
       "      <td>POLYGON ((105.11716 10.95483, 105.11732 10.951...</td>\n",
       "    </tr>\n",
       "    <tr>\n",
       "      <th>1</th>\n",
       "      <td>3.419187</td>\n",
       "      <td>0.163033</td>\n",
       "      <td>Ba Ria - Vung Tau</td>\n",
       "      <td>Bà Rịa - Vũng Tàu</td>\n",
       "      <td>VN717</td>\n",
       "      <td>None</td>\n",
       "      <td>None</td>\n",
       "      <td>None</td>\n",
       "      <td>None</td>\n",
       "      <td>None</td>\n",
       "      <td>Viet Nam</td>\n",
       "      <td>Việt Nam</td>\n",
       "      <td>VN</td>\n",
       "      <td>2019-10-01</td>\n",
       "      <td>2020-01-03</td>\n",
       "      <td>None</td>\n",
       "      <td>MULTIPOLYGON (((106.55742 8.62810, 106.55723 8...</td>\n",
       "    </tr>\n",
       "    <tr>\n",
       "      <th>2</th>\n",
       "      <td>4.514786</td>\n",
       "      <td>0.338748</td>\n",
       "      <td>Bac Giang</td>\n",
       "      <td>Bắc Giang</td>\n",
       "      <td>VN221</td>\n",
       "      <td>None</td>\n",
       "      <td>None</td>\n",
       "      <td>None</td>\n",
       "      <td>None</td>\n",
       "      <td>None</td>\n",
       "      <td>Viet Nam</td>\n",
       "      <td>Việt Nam</td>\n",
       "      <td>VN</td>\n",
       "      <td>2019-10-01</td>\n",
       "      <td>2020-01-03</td>\n",
       "      <td>None</td>\n",
       "      <td>POLYGON ((106.16302 21.62403, 106.16382 21.623...</td>\n",
       "    </tr>\n",
       "    <tr>\n",
       "      <th>3</th>\n",
       "      <td>4.207590</td>\n",
       "      <td>0.425598</td>\n",
       "      <td>Bac Kan</td>\n",
       "      <td>Bắc Kạn</td>\n",
       "      <td>VN207</td>\n",
       "      <td>None</td>\n",
       "      <td>None</td>\n",
       "      <td>None</td>\n",
       "      <td>None</td>\n",
       "      <td>None</td>\n",
       "      <td>Viet Nam</td>\n",
       "      <td>Việt Nam</td>\n",
       "      <td>VN</td>\n",
       "      <td>2019-10-01</td>\n",
       "      <td>2020-01-03</td>\n",
       "      <td>None</td>\n",
       "      <td>POLYGON ((105.74147 22.73941, 105.74476 22.737...</td>\n",
       "    </tr>\n",
       "    <tr>\n",
       "      <th>4</th>\n",
       "      <td>2.879202</td>\n",
       "      <td>0.204050</td>\n",
       "      <td>Bac Lieu</td>\n",
       "      <td>Bạc Liêu</td>\n",
       "      <td>VN821</td>\n",
       "      <td>None</td>\n",
       "      <td>None</td>\n",
       "      <td>None</td>\n",
       "      <td>None</td>\n",
       "      <td>None</td>\n",
       "      <td>Viet Nam</td>\n",
       "      <td>Việt Nam</td>\n",
       "      <td>VN</td>\n",
       "      <td>2019-10-01</td>\n",
       "      <td>2020-01-03</td>\n",
       "      <td>None</td>\n",
       "      <td>POLYGON ((105.29893 9.62913, 105.29970 9.62913...</td>\n",
       "    </tr>\n",
       "  </tbody>\n",
       "</table>\n",
       "</div>"
      ],
      "text/plain": [
       "   shape_leng  shape_area            adm1_en            adm1_vi adm1_pcode  \\\n",
       "0    2.900742    0.292040           An Giang           An Giang      VN805   \n",
       "1    3.419187    0.163033  Ba Ria - Vung Tau  Bà Rịa - Vũng Tàu      VN717   \n",
       "2    4.514786    0.338748          Bac Giang          Bắc Giang      VN221   \n",
       "3    4.207590    0.425598            Bac Kan            Bắc Kạn      VN207   \n",
       "4    2.879202    0.204050           Bac Lieu           Bạc Liêu      VN821   \n",
       "\n",
       "  adm1_ref adm1alt1en adm1alt2en adm1alt1vi adm1alt2vi   adm0_en   adm0_vi  \\\n",
       "0     None       None       None       None       None  Viet Nam  Việt Nam   \n",
       "1     None       None       None       None       None  Viet Nam  Việt Nam   \n",
       "2     None       None       None       None       None  Viet Nam  Việt Nam   \n",
       "3     None       None       None       None       None  Viet Nam  Việt Nam   \n",
       "4     None       None       None       None       None  Viet Nam  Việt Nam   \n",
       "\n",
       "  adm0_pcode        date     validon validto  \\\n",
       "0         VN  2019-10-01  2020-01-03    None   \n",
       "1         VN  2019-10-01  2020-01-03    None   \n",
       "2         VN  2019-10-01  2020-01-03    None   \n",
       "3         VN  2019-10-01  2020-01-03    None   \n",
       "4         VN  2019-10-01  2020-01-03    None   \n",
       "\n",
       "                                            geometry  \n",
       "0  POLYGON ((105.11716 10.95483, 105.11732 10.951...  \n",
       "1  MULTIPOLYGON (((106.55742 8.62810, 106.55723 8...  \n",
       "2  POLYGON ((106.16302 21.62403, 106.16382 21.623...  \n",
       "3  POLYGON ((105.74147 22.73941, 105.74476 22.737...  \n",
       "4  POLYGON ((105.29893 9.62913, 105.29970 9.62913...  "
      ]
     },
     "execution_count": 3,
     "metadata": {},
     "output_type": "execute_result"
    }
   ],
   "source": [
    "sf.columns = [x.lower() for x in sf.columns] # lower case col names\n",
    "print(sf.dtypes)\n",
    "\n",
    "# Check geometries\n",
    "print(len(sf))\n",
    "sf.geometry.type.value_counts()\n",
    "\n",
    "sf.head()"
   ]
  },
  {
   "cell_type": "code",
   "execution_count": 4,
   "metadata": {},
   "outputs": [],
   "source": [
    "viet_provinces = sf[['adm1_en', 'adm1_vi','shape_leng','shape_area','geometry']]"
   ]
  },
  {
   "cell_type": "code",
   "execution_count": 5,
   "metadata": {},
   "outputs": [],
   "source": [
    "import rioxarray as rxr\n",
    "import earthpy as et"
   ]
  },
  {
   "cell_type": "code",
   "execution_count": 6,
   "metadata": {},
   "outputs": [],
   "source": [
    "NO2_2022_dir = './2022/GIOVANNI-g4.timeAvgMap.OMNO2d_003_ColumnAmountNO2CloudScreened.20220101-20221231.101E_7N_110E_24N.tif'\n",
    "NO2_trop_2022_dir = './2022/GIOVANNI-g4.timeAvgMap.OMNO2d_003_ColumnAmountNO2TropCloudScreened.20220101-20221231.102E_8N_110E_24N.tif'\n",
    "NO2_2023_dir = './2023/GIOVANNI-g4.timeAvgMap.OMNO2d_003_ColumnAmountNO2CloudScreened.20230101-20231231.101E_7N_110E_24N.tif'\n",
    "NO2_trop_2023_dir = './2023/GIOVANNI-g4.timeAvgMap.OMNO2d_003_ColumnAmountNO2TropCloudScreened.20230101-20231231.102E_8N_110E_24N.tif'\n",
    "SO2_2022_dir = './2022/GIOVANNI-g4.timeAvgMap.OMSO2e_003_ColumnAmountSO2.20220101-20221231.101E_7N_110E_24N.tif'\n",
    "SO2_2023_dir = './2023/GIOVANNI-g4.timeAvgMap.OMSO2e_003_ColumnAmountSO2.20230101-20231231.101E_7N_110E_24N.tif'"
   ]
  },
  {
   "cell_type": "code",
   "execution_count": 7,
   "metadata": {},
   "outputs": [
    {
     "name": "stdout",
     "output_type": "stream",
     "text": [
      "The bounds of your data are: (102.0, 8.0, 110.25, 24.25)\n",
      "The crs of your data is: EPSG:4326\n",
      "The shape of your data is: (1, 65, 33)\n",
      "The spatial resolution for your data is: (0.25, -0.25)\n",
      "The metadata for your data is: {'AREA_OR_POINT': 'Area', 'lat#bounds': 'lat_bnds', 'lat#standard_name': 'latitude', 'lat#units': 'degrees_north', 'lon#bounds': 'lon_bnds', 'lon#standard_name': 'longitude', 'lon#units': 'degrees_east', 'Conventions': 'CF-1.4', 'end_time': '2022-12-31T23:59:59Z', 'history': 'Thu Feb  1 20:56:13 2024: ncap2 -O -S /var/giovanni/session/TEMP/linearUnitsConversion_ScHI.ncap2 /var/giovanni/session/61532D68-C118-11EE-933D-C0634644E724/49C685BA-C144-11EE-B634-941D5E44E724/49C93ECC-C144-11EE-B634-941D5E44E724/timeAvgMap.OMNO2d_003_ColumnAmountNO2CloudScreened.20220101-20221231.101E_7N_110E_24N.nc /var/giovanni/session/61532D68-C118-11EE-933D-C0634644E724/49C685BA-C144-11EE-B634-941D5E44E724/49C93ECC-C144-11EE-B634-941D5E44E724/g4.timeAvgMap.OMNO2d_003_ColumnAmountNO2CloudScreened.20220101-20221231.101E_7N_110E_24N.nc\\nThu Feb  1 20:56:12 2024: ncks -O -x -v time_bnds timeAvgMap.OMNO2d_003_ColumnAmountNO2CloudScreened.20220101-20221231.101E_7N_110E_24N.nc timeAvgMap.OMNO2d_003_ColumnAmountNO2CloudScreened.20220101-20221231.101E_7N_110E_24N.nc\\nThu Feb  1 20:56:12 2024: ncatted -a valid_range,,d,, -O -o timeAvgMap.OMNO2d_003_ColumnAmountNO2CloudScreened.20220101-20221231.101E_7N_110E_24N.nc timeAvgMap.OMNO2d_003_ColumnAmountNO2CloudScreened.20220101-20221231.101E_7N_110E_24N.nc\\nThu Feb  1 20:56:12 2024: ncatted -O -a title,global,o,c,OMNO2d_003_ColumnAmountNO2CloudScreened Averaged over 2022-01-01 to 2022-12-31 timeAvgMap.OMNO2d_003_ColumnAmountNO2CloudScreened.20220101-20221231.101E_7N_110E_24N.nc\\nThu Feb  1 20:56:12 2024: ncks -x -v time -o timeAvgMap.OMNO2d_003_ColumnAmountNO2CloudScreened.20220101-20221231.101E_7N_110E_24N.nc -O timeAvgMap.OMNO2d_003_ColumnAmountNO2CloudScreened.20220101-20221231.101E_7N_110E_24N.nc\\nThu Feb  1 20:56:12 2024: ncwa -o timeAvgMap.OMNO2d_003_ColumnAmountNO2CloudScreened.20220101-20221231.101E_7N_110E_24N.nc -a time -O timeAvgMap.OMNO2d_003_ColumnAmountNO2CloudScreened.20220101-20221231.101E_7N_110E_24N.nc\\nThu Feb  1 20:55:58 2024: ncra -D 2 -H -O -o timeAvgMap.OMNO2d_003_ColumnAmountNO2CloudScreened.20220101-20221231.101E_7N_110E_24N.nc -d lat,7.910200,24.169900 -d lon,101.997100,110.170900', 'NCO': 'netCDF Operators version 5.0.6 (Homepage = http://nco.sf.net, Code = http://github.com/nco/nco)', 'plot_hint_subtitle': 'over 2022-01-01 - 2022-12-31, Region 101.9971E, 7.9102N, 110.1709E, 24.1699N', 'plot_hint_title': 'Time Averaged Map of NO2 Total Column (30% Cloud Screened) daily 0.25 deg. [OMI OMNO2d v003] DU', 'start_time': '2022-01-01T00:00:00Z', 'title': 'NO2 vertical column density, screened for CloudFraction < 30%', 'userenddate': '2022-12-31T23:59:59Z', 'userstartdate': '2022-01-01T00:00:00Z', 'cell_methods': 'time: mean', 'coordinates': 'lat lon', 'Description': 'Field=ColumnAmountNO2,StdField=ColumnAmountNO2Std,SolarZenithAngle=[0:85],CloudFraction=[0:300],VcdQualityFlags=~19,XTrackQualityFlags=~[1:254],TerrainReflectivity=[0:1000]', 'fullnamepath': '/HDFEOS/GRIDS/ColumnAmountNO2/Data Fields/ColumnAmountNO2CloudScreened', 'latitude_resolution': 0.25, 'longitude_resolution': 0.25, 'long_name': 'NO2 Total Column (30% Cloud Screened)', 'origname': 'ColumnAmountNO2CloudScreened', 'orig_dimname_list': 'YDim XDim', 'product_short_name': 'OMNO2d', 'product_version': 3, 'quantity_type': 'NO2', 'standard_name': 'columnamountno2cloudscreened', 'units': 'DU', 'scale_factor': 1.0, 'add_offset': 0.0}\n"
     ]
    }
   ],
   "source": [
    "# View generate metadata associated with the raster file\n",
    "NO2_2022 = rxr.open_rasterio(NO2_2022_dir,\n",
    "                                 masked=True)\n",
    "print(\"The bounds of your data are:\", NO2_2022.rio.bounds())\n",
    "print(\"The crs of your data is:\", NO2_2022.rio.crs)\n",
    "print(\"The shape of your data is:\", NO2_2022.shape)\n",
    "print(\"The spatial resolution for your data is:\", NO2_2022.rio.resolution())\n",
    "print(\"The metadata for your data is:\", NO2_2022.attrs)"
   ]
  },
  {
   "cell_type": "code",
   "execution_count": 8,
   "metadata": {},
   "outputs": [
    {
     "name": "stdout",
     "output_type": "stream",
     "text": [
      "The bounds of your data are: (102.0, 8.0, 110.25, 24.25)\n",
      "The crs of your data is: EPSG:4326\n",
      "The shape of your data is: (1, 65, 33)\n",
      "The spatial resolution for your data is: (0.25, -0.25)\n",
      "The metadata for your data is: {'AREA_OR_POINT': 'Area', 'lat#bounds': 'lat_bnds', 'lat#standard_name': 'latitude', 'lat#units': 'degrees_north', 'lon#bounds': 'lon_bnds', 'lon#standard_name': 'longitude', 'lon#units': 'degrees_east', 'Conventions': 'CF-1.4', 'end_time': '2022-12-31T23:59:59Z', 'history': 'Tue Feb  6 18:42:00 2024: ncap2 -O -S /var/giovanni/session/TEMP/linearUnitsConversion_dAvP.ncap2 /var/giovanni/session/61532D68-C118-11EE-933D-C0634644E724/524B81CA-C51F-11EE-87C6-E4E63D44E724/524B8EA4-C51F-11EE-87C6-E4E63D44E724/timeAvgMap.OMNO2d_003_ColumnAmountNO2TropCloudScreened.20220101-20221231.102E_8N_110E_24N.nc /var/giovanni/session/61532D68-C118-11EE-933D-C0634644E724/524B81CA-C51F-11EE-87C6-E4E63D44E724/524B8EA4-C51F-11EE-87C6-E4E63D44E724/g4.timeAvgMap.OMNO2d_003_ColumnAmountNO2TropCloudScreened.20220101-20221231.102E_8N_110E_24N.nc\\nTue Feb  6 18:41:59 2024: ncks -O -x -v time_bnds timeAvgMap.OMNO2d_003_ColumnAmountNO2TropCloudScreened.20220101-20221231.102E_8N_110E_24N.nc timeAvgMap.OMNO2d_003_ColumnAmountNO2TropCloudScreened.20220101-20221231.102E_8N_110E_24N.nc\\nTue Feb  6 18:41:59 2024: ncatted -a valid_range,,d,, -O -o timeAvgMap.OMNO2d_003_ColumnAmountNO2TropCloudScreened.20220101-20221231.102E_8N_110E_24N.nc timeAvgMap.OMNO2d_003_ColumnAmountNO2TropCloudScreened.20220101-20221231.102E_8N_110E_24N.nc\\nTue Feb  6 18:41:59 2024: ncatted -O -a title,global,o,c,OMNO2d_003_ColumnAmountNO2TropCloudScreened Averaged over 2022-01-01 to 2022-12-31 timeAvgMap.OMNO2d_003_ColumnAmountNO2TropCloudScreened.20220101-20221231.102E_8N_110E_24N.nc\\nTue Feb  6 18:41:59 2024: ncks -x -v time -o timeAvgMap.OMNO2d_003_ColumnAmountNO2TropCloudScreened.20220101-20221231.102E_8N_110E_24N.nc -O timeAvgMap.OMNO2d_003_ColumnAmountNO2TropCloudScreened.20220101-20221231.102E_8N_110E_24N.nc\\nTue Feb  6 18:41:59 2024: ncwa -o timeAvgMap.OMNO2d_003_ColumnAmountNO2TropCloudScreened.20220101-20221231.102E_8N_110E_24N.nc -a time -O timeAvgMap.OMNO2d_003_ColumnAmountNO2TropCloudScreened.20220101-20221231.102E_8N_110E_24N.nc\\nTue Feb  6 18:41:25 2024: ncra -D 2 -H -O -o timeAvgMap.OMNO2d_003_ColumnAmountNO2TropCloudScreened.20220101-20221231.102E_8N_110E_24N.nc -d lat,8.000000,24.250000 -d lon,102.000000,110.250000', 'NCO': 'netCDF Operators version 5.0.6 (Homepage = http://nco.sf.net, Code = http://github.com/nco/nco)', 'plot_hint_subtitle': 'over 2022-01-01 - 2022-12-31, Region 102E, 8N, 110.25E, 24.25N', 'plot_hint_title': 'Time Averaged Map of NO2 Tropospheric Column (30% Cloud Screened) daily 0.25 deg. [OMI OMNO2d v003] DU', 'start_time': '2022-01-01T00:00:00Z', 'title': 'NO2 tropospheric column density, screened for CloudFraction < 30%', 'userenddate': '2022-12-31T23:59:59Z', 'userstartdate': '2022-01-01T00:00:00Z', 'cell_methods': 'time: mean', 'coordinates': 'lat lon', 'Description': 'Field=ColumnAmountNO2Trop,StdField=ColumnAmountNO2TropStd,SolarZenithAngle=[0:85],CloudFraction=[0:300],VcdQualityFlags=~19,XTrackQualityFlags=~[1:254],TerrainReflectivity=[0:1000]', 'fullnamepath': '/HDFEOS/GRIDS/ColumnAmountNO2/Data Fields/ColumnAmountNO2TropCloudScreened', 'latitude_resolution': 0.25, 'longitude_resolution': 0.25, 'long_name': 'NO2 Tropospheric Column (30% Cloud Screened)', 'origname': 'ColumnAmountNO2TropCloudScreened', 'orig_dimname_list': 'YDim XDim', 'product_short_name': 'OMNO2d', 'product_version': 3, 'quantity_type': 'NO2', 'standard_name': 'columnamountno2tropcloudscreened', 'units': 'DU', 'scale_factor': 1.0, 'add_offset': 0.0}\n"
     ]
    }
   ],
   "source": [
    "# View generate metadata associated with the raster file\n",
    "NO2_trop_2022 = rxr.open_rasterio(NO2_trop_2022_dir,\n",
    "                                 masked=True)\n",
    "print(\"The bounds of your data are:\", NO2_trop_2022.rio.bounds())\n",
    "print(\"The crs of your data is:\", NO2_trop_2022.rio.crs)\n",
    "print(\"The shape of your data is:\", NO2_trop_2022.shape)\n",
    "print(\"The spatial resolution for your data is:\", NO2_trop_2022.rio.resolution())\n",
    "print(\"The metadata for your data is:\", NO2_trop_2022.attrs)"
   ]
  },
  {
   "cell_type": "code",
   "execution_count": 9,
   "metadata": {},
   "outputs": [
    {
     "name": "stdout",
     "output_type": "stream",
     "text": [
      "The bounds of your data are: (102.0, 8.0, 110.25, 24.25)\n",
      "The crs of your data is: EPSG:4326\n",
      "The shape of your data is: (1, 65, 33)\n",
      "The spatial resolution for your data is: (0.25, -0.25)\n",
      "The metadata for your data is: {'AREA_OR_POINT': 'Area', 'lat#bounds': 'lat_bnds', 'lat#standard_name': 'latitude', 'lat#units': 'degrees_north', 'lon#bounds': 'lon_bnds', 'lon#standard_name': 'longitude', 'lon#units': 'degrees_east', 'Conventions': 'CF-1.4', 'end_time': '2023-12-31T23:59:59Z', 'history': 'Thu Feb  1 20:58:54 2024: ncap2 -O -S /var/giovanni/session/TEMP/linearUnitsConversion_zBK7.ncap2 /var/giovanni/session/61532D68-C118-11EE-933D-C0634644E724/AA01B7CE-C144-11EE-8301-9C445E44E724/AA01C566-C144-11EE-8301-9C445E44E724/timeAvgMap.OMNO2d_003_ColumnAmountNO2CloudScreened.20230101-20231231.101E_7N_110E_24N.nc /var/giovanni/session/61532D68-C118-11EE-933D-C0634644E724/AA01B7CE-C144-11EE-8301-9C445E44E724/AA01C566-C144-11EE-8301-9C445E44E724/g4.timeAvgMap.OMNO2d_003_ColumnAmountNO2CloudScreened.20230101-20231231.101E_7N_110E_24N.nc\\nThu Feb  1 20:58:53 2024: ncks -O -x -v time_bnds timeAvgMap.OMNO2d_003_ColumnAmountNO2CloudScreened.20230101-20231231.101E_7N_110E_24N.nc timeAvgMap.OMNO2d_003_ColumnAmountNO2CloudScreened.20230101-20231231.101E_7N_110E_24N.nc\\nThu Feb  1 20:58:53 2024: ncatted -a valid_range,,d,, -O -o timeAvgMap.OMNO2d_003_ColumnAmountNO2CloudScreened.20230101-20231231.101E_7N_110E_24N.nc timeAvgMap.OMNO2d_003_ColumnAmountNO2CloudScreened.20230101-20231231.101E_7N_110E_24N.nc\\nThu Feb  1 20:58:53 2024: ncatted -O -a title,global,o,c,OMNO2d_003_ColumnAmountNO2CloudScreened Averaged over 2023-01-01 to 2023-12-31 timeAvgMap.OMNO2d_003_ColumnAmountNO2CloudScreened.20230101-20231231.101E_7N_110E_24N.nc\\nThu Feb  1 20:58:53 2024: ncks -x -v time -o timeAvgMap.OMNO2d_003_ColumnAmountNO2CloudScreened.20230101-20231231.101E_7N_110E_24N.nc -O timeAvgMap.OMNO2d_003_ColumnAmountNO2CloudScreened.20230101-20231231.101E_7N_110E_24N.nc\\nThu Feb  1 20:58:53 2024: ncwa -o timeAvgMap.OMNO2d_003_ColumnAmountNO2CloudScreened.20230101-20231231.101E_7N_110E_24N.nc -a time -O timeAvgMap.OMNO2d_003_ColumnAmountNO2CloudScreened.20230101-20231231.101E_7N_110E_24N.nc\\nThu Feb  1 20:58:39 2024: ncra -D 2 -H -O -o timeAvgMap.OMNO2d_003_ColumnAmountNO2CloudScreened.20230101-20231231.101E_7N_110E_24N.nc -d lat,7.910200,24.169900 -d lon,101.997100,110.170900', 'NCO': 'netCDF Operators version 5.0.6 (Homepage = http://nco.sf.net, Code = http://github.com/nco/nco)', 'plot_hint_subtitle': 'over 2023-01-01 - 2023-12-31, Region 101.9971E, 7.9102N, 110.1709E, 24.1699N', 'plot_hint_title': 'Time Averaged Map of NO2 Total Column (30% Cloud Screened) daily 0.25 deg. [OMI OMNO2d v003] DU', 'start_time': '2023-01-01T00:00:00Z', 'title': 'NO2 vertical column density, screened for CloudFraction < 30%', 'userenddate': '2023-12-31T23:59:59Z', 'userstartdate': '2023-01-01T00:00:00Z', 'cell_methods': 'time: mean', 'coordinates': 'lat lon', 'Description': 'Field=ColumnAmountNO2,StdField=ColumnAmountNO2Std,SolarZenithAngle=[0:85],CloudFraction=[0:300],VcdQualityFlags=~19,XTrackQualityFlags=~[1:254],TerrainReflectivity=[0:1000]', 'fullnamepath': '/HDFEOS/GRIDS/ColumnAmountNO2/Data Fields/ColumnAmountNO2CloudScreened', 'latitude_resolution': 0.25, 'longitude_resolution': 0.25, 'long_name': 'NO2 Total Column (30% Cloud Screened)', 'origname': 'ColumnAmountNO2CloudScreened', 'orig_dimname_list': 'YDim XDim', 'product_short_name': 'OMNO2d', 'product_version': 3, 'quantity_type': 'NO2', 'standard_name': 'columnamountno2cloudscreened', 'units': 'DU', 'scale_factor': 1.0, 'add_offset': 0.0}\n"
     ]
    }
   ],
   "source": [
    "# View generate metadata associated with the raster file\n",
    "NO2_2023 = rxr.open_rasterio(NO2_2023_dir,\n",
    "                                 masked=True)\n",
    "print(\"The bounds of your data are:\", NO2_2023.rio.bounds())\n",
    "print(\"The crs of your data is:\", NO2_2023.rio.crs)\n",
    "print(\"The shape of your data is:\", NO2_2023.shape)\n",
    "print(\"The spatial resolution for your data is:\", NO2_2023.rio.resolution())\n",
    "print(\"The metadata for your data is:\", NO2_2023.attrs)"
   ]
  },
  {
   "cell_type": "code",
   "execution_count": 10,
   "metadata": {},
   "outputs": [
    {
     "name": "stdout",
     "output_type": "stream",
     "text": [
      "The bounds of your data are: (102.0, 8.0, 110.25, 24.25)\n",
      "The crs of your data is: EPSG:4326\n",
      "The shape of your data is: (1, 65, 33)\n",
      "The spatial resolution for your data is: (0.25, -0.25)\n",
      "The metadata for your data is: {'AREA_OR_POINT': 'Area', 'lat#bounds': 'lat_bnds', 'lat#standard_name': 'latitude', 'lat#units': 'degrees_north', 'lon#bounds': 'lon_bnds', 'lon#standard_name': 'longitude', 'lon#units': 'degrees_east', 'Conventions': 'CF-1.4', 'end_time': '2023-12-31T23:59:59Z', 'history': 'Tue Feb  6 18:43:26 2024: ncap2 -O -S /var/giovanni/session/TEMP/linearUnitsConversion_wIIo.ncap2 /var/giovanni/session/61532D68-C118-11EE-933D-C0634644E724/9044BE06-C51F-11EE-ACFA-0B2E3E44E724/9044CA9A-C51F-11EE-ACFA-0B2E3E44E724/timeAvgMap.OMNO2d_003_ColumnAmountNO2TropCloudScreened.20230101-20231231.102E_8N_110E_24N.nc /var/giovanni/session/61532D68-C118-11EE-933D-C0634644E724/9044BE06-C51F-11EE-ACFA-0B2E3E44E724/9044CA9A-C51F-11EE-ACFA-0B2E3E44E724/g4.timeAvgMap.OMNO2d_003_ColumnAmountNO2TropCloudScreened.20230101-20231231.102E_8N_110E_24N.nc\\nTue Feb  6 18:43:25 2024: ncks -O -x -v time_bnds timeAvgMap.OMNO2d_003_ColumnAmountNO2TropCloudScreened.20230101-20231231.102E_8N_110E_24N.nc timeAvgMap.OMNO2d_003_ColumnAmountNO2TropCloudScreened.20230101-20231231.102E_8N_110E_24N.nc\\nTue Feb  6 18:43:25 2024: ncatted -a valid_range,,d,, -O -o timeAvgMap.OMNO2d_003_ColumnAmountNO2TropCloudScreened.20230101-20231231.102E_8N_110E_24N.nc timeAvgMap.OMNO2d_003_ColumnAmountNO2TropCloudScreened.20230101-20231231.102E_8N_110E_24N.nc\\nTue Feb  6 18:43:24 2024: ncatted -O -a title,global,o,c,OMNO2d_003_ColumnAmountNO2TropCloudScreened Averaged over 2023-01-01 to 2023-12-31 timeAvgMap.OMNO2d_003_ColumnAmountNO2TropCloudScreened.20230101-20231231.102E_8N_110E_24N.nc\\nTue Feb  6 18:43:24 2024: ncks -x -v time -o timeAvgMap.OMNO2d_003_ColumnAmountNO2TropCloudScreened.20230101-20231231.102E_8N_110E_24N.nc -O timeAvgMap.OMNO2d_003_ColumnAmountNO2TropCloudScreened.20230101-20231231.102E_8N_110E_24N.nc\\nTue Feb  6 18:43:24 2024: ncwa -o timeAvgMap.OMNO2d_003_ColumnAmountNO2TropCloudScreened.20230101-20231231.102E_8N_110E_24N.nc -a time -O timeAvgMap.OMNO2d_003_ColumnAmountNO2TropCloudScreened.20230101-20231231.102E_8N_110E_24N.nc\\nTue Feb  6 18:43:09 2024: ncra -D 2 -H -O -o timeAvgMap.OMNO2d_003_ColumnAmountNO2TropCloudScreened.20230101-20231231.102E_8N_110E_24N.nc -d lat,8.000000,24.250000 -d lon,102.000000,110.250000', 'NCO': 'netCDF Operators version 5.0.6 (Homepage = http://nco.sf.net, Code = http://github.com/nco/nco)', 'plot_hint_subtitle': 'over 2023-01-01 - 2023-12-31, Region 102E, 8N, 110.25E, 24.25N', 'plot_hint_title': 'Time Averaged Map of NO2 Tropospheric Column (30% Cloud Screened) daily 0.25 deg. [OMI OMNO2d v003] DU', 'start_time': '2023-01-01T00:00:00Z', 'title': 'NO2 tropospheric column density, screened for CloudFraction < 30%', 'userenddate': '2023-12-31T23:59:59Z', 'userstartdate': '2023-01-01T00:00:00Z', 'cell_methods': 'time: mean', 'coordinates': 'lat lon', 'Description': 'Field=ColumnAmountNO2Trop,StdField=ColumnAmountNO2TropStd,SolarZenithAngle=[0:85],CloudFraction=[0:300],VcdQualityFlags=~19,XTrackQualityFlags=~[1:254],TerrainReflectivity=[0:1000]', 'fullnamepath': '/HDFEOS/GRIDS/ColumnAmountNO2/Data Fields/ColumnAmountNO2TropCloudScreened', 'latitude_resolution': 0.25, 'longitude_resolution': 0.25, 'long_name': 'NO2 Tropospheric Column (30% Cloud Screened)', 'origname': 'ColumnAmountNO2TropCloudScreened', 'orig_dimname_list': 'YDim XDim', 'product_short_name': 'OMNO2d', 'product_version': 3, 'quantity_type': 'NO2', 'standard_name': 'columnamountno2tropcloudscreened', 'units': 'DU', 'scale_factor': 1.0, 'add_offset': 0.0}\n"
     ]
    }
   ],
   "source": [
    "# View generate metadata associated with the raster file\n",
    "NO2_trop_2023 = rxr.open_rasterio(NO2_trop_2023_dir,\n",
    "                                 masked=True)\n",
    "print(\"The bounds of your data are:\", NO2_trop_2023.rio.bounds())\n",
    "print(\"The crs of your data is:\", NO2_trop_2023.rio.crs)\n",
    "print(\"The shape of your data is:\", NO2_trop_2023.shape)\n",
    "print(\"The spatial resolution for your data is:\", NO2_trop_2023.rio.resolution())\n",
    "print(\"The metadata for your data is:\", NO2_trop_2023.attrs)"
   ]
  },
  {
   "cell_type": "code",
   "execution_count": 11,
   "metadata": {},
   "outputs": [
    {
     "name": "stdout",
     "output_type": "stream",
     "text": [
      "The bounds of your data are: (101.99999237060547, 8.0, 110.24999237060547, 24.25)\n",
      "The crs of your data is: EPSG:4326\n",
      "The shape of your data is: (1, 65, 33)\n",
      "The spatial resolution for your data is: (0.25, -0.25)\n",
      "The metadata for your data is: {'AREA_OR_POINT': 'Area', 'lat#bounds': 'lat_bnds', 'lat#standard_name': 'latitude', 'lat#units': 'degrees_north', 'lon#bounds': 'lon_bnds', 'lon#standard_name': 'longitude', 'lon#units': 'degrees_east', 'Conventions': 'CF-1.4', 'end_time': '2022-12-31T23:59:59Z', 'history': 'Thu Feb  1 20:56:21 2024: ncks -O -x -v time_bnds timeAvgMap.OMSO2e_003_ColumnAmountSO2.20220101-20221231.101E_7N_110E_24N.nc timeAvgMap.OMSO2e_003_ColumnAmountSO2.20220101-20221231.101E_7N_110E_24N.nc\\nThu Feb  1 20:56:21 2024: ncatted -a valid_range,,d,, -O -o timeAvgMap.OMSO2e_003_ColumnAmountSO2.20220101-20221231.101E_7N_110E_24N.nc timeAvgMap.OMSO2e_003_ColumnAmountSO2.20220101-20221231.101E_7N_110E_24N.nc\\nThu Feb  1 20:56:20 2024: ncatted -O -a title,global,o,c,OMSO2e_003_ColumnAmountSO2 Averaged over 2022-01-01 to 2022-12-31 timeAvgMap.OMSO2e_003_ColumnAmountSO2.20220101-20221231.101E_7N_110E_24N.nc\\nThu Feb  1 20:56:20 2024: ncks -x -v time -o timeAvgMap.OMSO2e_003_ColumnAmountSO2.20220101-20221231.101E_7N_110E_24N.nc -O timeAvgMap.OMSO2e_003_ColumnAmountSO2.20220101-20221231.101E_7N_110E_24N.nc\\nThu Feb  1 20:56:20 2024: ncwa -o timeAvgMap.OMSO2e_003_ColumnAmountSO2.20220101-20221231.101E_7N_110E_24N.nc -a time -O timeAvgMap.OMSO2e_003_ColumnAmountSO2.20220101-20221231.101E_7N_110E_24N.nc\\nThu Feb  1 20:55:58 2024: ncra -D 2 -H -O -o timeAvgMap.OMSO2e_003_ColumnAmountSO2.20220101-20221231.101E_7N_110E_24N.nc -d lat,7.910200,24.169900 -d lon,101.997100,110.170900', 'NCO': 'netCDF Operators version 5.0.6 (Homepage = http://nco.sf.net, Code = http://github.com/nco/nco)', 'plot_hint_subtitle': 'over 2022-01-01 - 2022-12-31, Region 101.9971E, 7.9102N, 110.1709E, 24.1699N', 'plot_hint_title': 'Time Averaged Map of SO2 Column Amount daily 0.25 deg. [OMI OMSO2e v003] DU', 'start_time': '2022-01-01T00:00:00Z', 'title': 'Vertical Column Amount SO2 (GEOS-5 Profile)', 'userenddate': '2022-12-31T23:59:59Z', 'userstartdate': '2022-01-01T00:00:00Z', 'cell_methods': 'time: mean', 'coordinates': 'lat lon', 'fullnamepath': '/HDFEOS/GRIDS/OMI Total Column Amount SO2/Data Fields/ColumnAmountSO2', 'latitude_resolution': 0.25, 'longitude_resolution': 0.250031, 'long_name': 'SO2 Column Amount', 'origname': 'ColumnAmountSO2', 'orig_dimname_list': 'YDim XDim', 'product_short_name': 'OMSO2e', 'product_version': 3, 'quantity_type': 'SO2', 'standard_name': 'columnamountso2', 'units': 'DU', 'scale_factor': 1.0, 'add_offset': 0.0}\n"
     ]
    }
   ],
   "source": [
    "# View generate metadata associated with the raster file\n",
    "SO2_2022 = rxr.open_rasterio(SO2_2022_dir,\n",
    "                                 masked=True)\n",
    "print(\"The bounds of your data are:\", SO2_2022.rio.bounds())\n",
    "print(\"The crs of your data is:\", SO2_2022.rio.crs)\n",
    "print(\"The shape of your data is:\", SO2_2022.shape)\n",
    "print(\"The spatial resolution for your data is:\", SO2_2022.rio.resolution())\n",
    "print(\"The metadata for your data is:\", SO2_2022.attrs)"
   ]
  },
  {
   "cell_type": "code",
   "execution_count": 12,
   "metadata": {},
   "outputs": [
    {
     "name": "stdout",
     "output_type": "stream",
     "text": [
      "The bounds of your data are: (101.99999237060547, 8.0, 110.24999237060547, 24.25)\n",
      "The crs of your data is: EPSG:4326\n",
      "The shape of your data is: (1, 65, 33)\n",
      "The spatial resolution for your data is: (0.25, -0.25)\n",
      "The metadata for your data is: {'AREA_OR_POINT': 'Area', 'lat#bounds': 'lat_bnds', 'lat#standard_name': 'latitude', 'lat#units': 'degrees_north', 'lon#bounds': 'lon_bnds', 'lon#standard_name': 'longitude', 'lon#units': 'degrees_east', 'Conventions': 'CF-1.4', 'end_time': '2023-12-31T23:59:59Z', 'history': 'Thu Feb  1 20:58:56 2024: ncks -O -x -v time_bnds timeAvgMap.OMSO2e_003_ColumnAmountSO2.20230101-20231231.101E_7N_110E_24N.nc timeAvgMap.OMSO2e_003_ColumnAmountSO2.20230101-20231231.101E_7N_110E_24N.nc\\nThu Feb  1 20:58:56 2024: ncatted -a valid_range,,d,, -O -o timeAvgMap.OMSO2e_003_ColumnAmountSO2.20230101-20231231.101E_7N_110E_24N.nc timeAvgMap.OMSO2e_003_ColumnAmountSO2.20230101-20231231.101E_7N_110E_24N.nc\\nThu Feb  1 20:58:55 2024: ncatted -O -a title,global,o,c,OMSO2e_003_ColumnAmountSO2 Averaged over 2023-01-01 to 2023-12-31 timeAvgMap.OMSO2e_003_ColumnAmountSO2.20230101-20231231.101E_7N_110E_24N.nc\\nThu Feb  1 20:58:55 2024: ncks -x -v time -o timeAvgMap.OMSO2e_003_ColumnAmountSO2.20230101-20231231.101E_7N_110E_24N.nc -O timeAvgMap.OMSO2e_003_ColumnAmountSO2.20230101-20231231.101E_7N_110E_24N.nc\\nThu Feb  1 20:58:55 2024: ncwa -o timeAvgMap.OMSO2e_003_ColumnAmountSO2.20230101-20231231.101E_7N_110E_24N.nc -a time -O timeAvgMap.OMSO2e_003_ColumnAmountSO2.20230101-20231231.101E_7N_110E_24N.nc\\nThu Feb  1 20:58:39 2024: ncra -D 2 -H -O -o timeAvgMap.OMSO2e_003_ColumnAmountSO2.20230101-20231231.101E_7N_110E_24N.nc -d lat,7.910200,24.169900 -d lon,101.997100,110.170900', 'NCO': 'netCDF Operators version 5.0.6 (Homepage = http://nco.sf.net, Code = http://github.com/nco/nco)', 'plot_hint_subtitle': 'over 2023-01-01 - 2023-12-31, Region 101.9971E, 7.9102N, 110.1709E, 24.1699N', 'plot_hint_title': 'Time Averaged Map of SO2 Column Amount daily 0.25 deg. [OMI OMSO2e v003] DU', 'start_time': '2023-01-01T00:00:00Z', 'title': 'Vertical Column Amount SO2 (GEOS-5 Profile)', 'userenddate': '2023-12-31T23:59:59Z', 'userstartdate': '2023-01-01T00:00:00Z', 'cell_methods': 'time: mean', 'coordinates': 'lat lon', 'fullnamepath': '/HDFEOS/GRIDS/OMI Total Column Amount SO2/Data Fields/ColumnAmountSO2', 'latitude_resolution': 0.25, 'longitude_resolution': 0.250031, 'long_name': 'SO2 Column Amount', 'origname': 'ColumnAmountSO2', 'orig_dimname_list': 'YDim XDim', 'product_short_name': 'OMSO2e', 'product_version': 3, 'quantity_type': 'SO2', 'standard_name': 'columnamountso2', 'units': 'DU', 'scale_factor': 1.0, 'add_offset': 0.0}\n"
     ]
    }
   ],
   "source": [
    "# View generate metadata associated with the raster file\n",
    "SO2_2023 = rxr.open_rasterio(SO2_2023_dir,\n",
    "                                 masked=True)\n",
    "print(\"The bounds of your data are:\", SO2_2023.rio.bounds())\n",
    "print(\"The crs of your data is:\", SO2_2023.rio.crs)\n",
    "print(\"The shape of your data is:\", SO2_2023.shape)\n",
    "print(\"The spatial resolution for your data is:\", SO2_2023.rio.resolution())\n",
    "print(\"The metadata for your data is:\", SO2_2023.attrs)"
   ]
  },
  {
   "cell_type": "code",
   "execution_count": 13,
   "metadata": {},
   "outputs": [
    {
     "data": {
      "image/png": "[encoded data removed]",
      "text/plain": [
       "<Figure size 640x480 with 1 Axes>"
      ]
     },
     "metadata": {},
     "output_type": "display_data"
    },
    {
     "data": {
      "text/plain": [
       "<Axes: >"
      ]
     },
     "execution_count": 13,
     "metadata": {},
     "output_type": "execute_result"
    }
   ],
   "source": [
    "import rasterio\n",
    "from rasterio.plot import show\n",
    "\n",
    "# Load the GeoTIFF file of NO2 observations\n",
    "# raster_path = 'path_to_your_geotiff/NO2_observations.tif'\n",
    "NO2_2022 = rasterio.open(NO2_2022_dir)\n",
    "\n",
    "# Optionally, visualize the raster data\n",
    "show(NO2_2022)"
   ]
  },
  {
   "cell_type": "code",
   "execution_count": 14,
   "metadata": {},
   "outputs": [
    {
     "name": "stderr",
     "output_type": "stream",
     "text": [
      "/home/codespace/.python/current/lib/python3.10/site-packages/geopandas/geodataframe.py:1525: SettingWithCopyWarning: \n",
      "A value is trying to be set on a copy of a slice from a DataFrame.\n",
      "Try using .loc[row_indexer,col_indexer] = value instead\n",
      "\n",
      "See the caveats in the documentation: https://pandas.pydata.org/pandas-docs/stable/user_guide/indexing.html#returning-a-view-versus-a-copy\n",
      "  super().__setitem__(key, value)\n",
      "/home/codespace/.python/current/lib/python3.10/site-packages/geopandas/geodataframe.py:1525: SettingWithCopyWarning: \n",
      "A value is trying to be set on a copy of a slice from a DataFrame.\n",
      "Try using .loc[row_indexer,col_indexer] = value instead\n",
      "\n",
      "See the caveats in the documentation: https://pandas.pydata.org/pandas-docs/stable/user_guide/indexing.html#returning-a-view-versus-a-copy\n",
      "  super().__setitem__(key, value)\n",
      "/home/codespace/.python/current/lib/python3.10/site-packages/geopandas/geodataframe.py:1525: SettingWithCopyWarning: \n",
      "A value is trying to be set on a copy of a slice from a DataFrame.\n",
      "Try using .loc[row_indexer,col_indexer] = value instead\n",
      "\n",
      "See the caveats in the documentation: https://pandas.pydata.org/pandas-docs/stable/user_guide/indexing.html#returning-a-view-versus-a-copy\n",
      "  super().__setitem__(key, value)\n",
      "/home/codespace/.python/current/lib/python3.10/site-packages/geopandas/geodataframe.py:1525: SettingWithCopyWarning: \n",
      "A value is trying to be set on a copy of a slice from a DataFrame.\n",
      "Try using .loc[row_indexer,col_indexer] = value instead\n",
      "\n",
      "See the caveats in the documentation: https://pandas.pydata.org/pandas-docs/stable/user_guide/indexing.html#returning-a-view-versus-a-copy\n",
      "  super().__setitem__(key, value)\n",
      "/home/codespace/.python/current/lib/python3.10/site-packages/geopandas/geodataframe.py:1525: SettingWithCopyWarning: \n",
      "A value is trying to be set on a copy of a slice from a DataFrame.\n",
      "Try using .loc[row_indexer,col_indexer] = value instead\n",
      "\n",
      "See the caveats in the documentation: https://pandas.pydata.org/pandas-docs/stable/user_guide/indexing.html#returning-a-view-versus-a-copy\n",
      "  super().__setitem__(key, value)\n",
      "/home/codespace/.python/current/lib/python3.10/site-packages/geopandas/geodataframe.py:1525: SettingWithCopyWarning: \n",
      "A value is trying to be set on a copy of a slice from a DataFrame.\n",
      "Try using .loc[row_indexer,col_indexer] = value instead\n",
      "\n",
      "See the caveats in the documentation: https://pandas.pydata.org/pandas-docs/stable/user_guide/indexing.html#returning-a-view-versus-a-copy\n",
      "  super().__setitem__(key, value)\n"
     ]
    }
   ],
   "source": [
    "from rasterstats import zonal_stats\n",
    "\n",
    "# Use zonal_stats to calculate the average NO2 density for each province\n",
    "mean_no2_2022 = zonal_stats(viet_provinces, NO2_2022_dir, stats=\"mean\")\n",
    "mean_no2_trop_2022 = zonal_stats(viet_provinces, NO2_trop_2022_dir, stats=\"mean\")\n",
    "mean_no2_2023 = zonal_stats(viet_provinces, NO2_2022_dir, stats=\"mean\")\n",
    "mean_no2_trop_2023 = zonal_stats(viet_provinces, NO2_trop_2023_dir, stats=\"mean\")\n",
    "mean_so2_2022 = zonal_stats(viet_provinces, SO2_2022_dir, stats=\"mean\")\n",
    "mean_so2_2023 = zonal_stats(viet_provinces, SO2_2022_dir, stats=\"mean\")\n",
    "\n",
    "# Add the average NO2 density to the provinces GeoDataFrame\n",
    "viet_provinces['NO2_mean_2022'] = [stat['mean'] for stat in mean_no2_2022]\n",
    "viet_provinces['NO2_trop_mean_2022'] = [stat['mean'] for stat in mean_no2_trop_2022]\n",
    "viet_provinces['NO2_mean_2023'] = [stat['mean'] for stat in mean_no2_2023]\n",
    "viet_provinces['NO2_trop_mean_2023'] = [stat['mean'] for stat in mean_no2_trop_2023]\n",
    "viet_provinces['SO2_mean_2022'] = [stat['mean'] for stat in mean_so2_2022]\n",
    "viet_provinces['SO2_mean_2023'] = [stat['mean'] for stat in mean_so2_2023]"
   ]
  },
  {
   "cell_type": "code",
   "execution_count": 15,
   "metadata": {},
   "outputs": [
    {
     "data": {
      "text/html": [
       "<div>\n",
       "<style scoped>\n",
       "    .dataframe tbody tr th:only-of-type {\n",
       "        vertical-align: middle;\n",
       "    }\n",
       "\n",
       "    .dataframe tbody tr th {\n",
       "        vertical-align: top;\n",
       "    }\n",
       "\n",
       "    .dataframe thead th {\n",
       "        text-align: right;\n",
       "    }\n",
       "</style>\n",
       "<table border=\"1\" class=\"dataframe\">\n",
       "  <thead>\n",
       "    <tr style=\"text-align: right;\">\n",
       "      <th></th>\n",
       "      <th>adm1_en</th>\n",
       "      <th>adm1_vi</th>\n",
       "      <th>shape_leng</th>\n",
       "      <th>shape_area</th>\n",
       "      <th>geometry</th>\n",
       "      <th>NO2_mean_2022</th>\n",
       "      <th>NO2_trop_mean_2022</th>\n",
       "      <th>NO2_mean_2023</th>\n",
       "      <th>NO2_trop_mean_2023</th>\n",
       "      <th>SO2_mean_2022</th>\n",
       "      <th>SO2_mean_2023</th>\n",
       "    </tr>\n",
       "  </thead>\n",
       "  <tbody>\n",
       "    <tr>\n",
       "      <th>0</th>\n",
       "      <td>An Giang</td>\n",
       "      <td>An Giang</td>\n",
       "      <td>2.900742</td>\n",
       "      <td>0.292040</td>\n",
       "      <td>POLYGON ((105.11716 10.95483, 105.11732 10.951...</td>\n",
       "      <td>0.120675</td>\n",
       "      <td>0.030791</td>\n",
       "      <td>0.120675</td>\n",
       "      <td>0.029731</td>\n",
       "      <td>0.054604</td>\n",
       "      <td>0.054604</td>\n",
       "    </tr>\n",
       "    <tr>\n",
       "      <th>1</th>\n",
       "      <td>Ba Ria - Vung Tau</td>\n",
       "      <td>Bà Rịa - Vũng Tàu</td>\n",
       "      <td>3.419187</td>\n",
       "      <td>0.163033</td>\n",
       "      <td>MULTIPOLYGON (((106.55742 8.62810, 106.55723 8...</td>\n",
       "      <td>0.144766</td>\n",
       "      <td>0.054636</td>\n",
       "      <td>0.144766</td>\n",
       "      <td>0.044676</td>\n",
       "      <td>0.018260</td>\n",
       "      <td>0.018260</td>\n",
       "    </tr>\n",
       "    <tr>\n",
       "      <th>2</th>\n",
       "      <td>Bac Giang</td>\n",
       "      <td>Bắc Giang</td>\n",
       "      <td>4.514786</td>\n",
       "      <td>0.338748</td>\n",
       "      <td>POLYGON ((106.16302 21.62403, 106.16382 21.623...</td>\n",
       "      <td>0.173933</td>\n",
       "      <td>0.078442</td>\n",
       "      <td>0.173933</td>\n",
       "      <td>0.094248</td>\n",
       "      <td>0.078605</td>\n",
       "      <td>0.078605</td>\n",
       "    </tr>\n",
       "    <tr>\n",
       "      <th>3</th>\n",
       "      <td>Bac Kan</td>\n",
       "      <td>Bắc Kạn</td>\n",
       "      <td>4.207590</td>\n",
       "      <td>0.425598</td>\n",
       "      <td>POLYGON ((105.74147 22.73941, 105.74476 22.737...</td>\n",
       "      <td>0.132133</td>\n",
       "      <td>0.035589</td>\n",
       "      <td>0.132133</td>\n",
       "      <td>0.042723</td>\n",
       "      <td>0.025225</td>\n",
       "      <td>0.025225</td>\n",
       "    </tr>\n",
       "    <tr>\n",
       "      <th>4</th>\n",
       "      <td>Bac Lieu</td>\n",
       "      <td>Bạc Liêu</td>\n",
       "      <td>2.879202</td>\n",
       "      <td>0.204050</td>\n",
       "      <td>POLYGON ((105.29893 9.62913, 105.29970 9.62913...</td>\n",
       "      <td>0.111393</td>\n",
       "      <td>0.021481</td>\n",
       "      <td>0.111393</td>\n",
       "      <td>0.020493</td>\n",
       "      <td>0.004557</td>\n",
       "      <td>0.004557</td>\n",
       "    </tr>\n",
       "  </tbody>\n",
       "</table>\n",
       "</div>"
      ],
      "text/plain": [
       "             adm1_en            adm1_vi  shape_leng  shape_area  \\\n",
       "0           An Giang           An Giang    2.900742    0.292040   \n",
       "1  Ba Ria - Vung Tau  Bà Rịa - Vũng Tàu    3.419187    0.163033   \n",
       "2          Bac Giang          Bắc Giang    4.514786    0.338748   \n",
       "3            Bac Kan            Bắc Kạn    4.207590    0.425598   \n",
       "4           Bac Lieu           Bạc Liêu    2.879202    0.204050   \n",
       "\n",
       "                                            geometry  NO2_mean_2022  \\\n",
       "0  POLYGON ((105.11716 10.95483, 105.11732 10.951...       0.120675   \n",
       "1  MULTIPOLYGON (((106.55742 8.62810, 106.55723 8...       0.144766   \n",
       "2  POLYGON ((106.16302 21.62403, 106.16382 21.623...       0.173933   \n",
       "3  POLYGON ((105.74147 22.73941, 105.74476 22.737...       0.132133   \n",
       "4  POLYGON ((105.29893 9.62913, 105.29970 9.62913...       0.111393   \n",
       "\n",
       "   NO2_trop_mean_2022  NO2_mean_2023  NO2_trop_mean_2023  SO2_mean_2022  \\\n",
       "0            0.030791       0.120675            0.029731       0.054604   \n",
       "1            0.054636       0.144766            0.044676       0.018260   \n",
       "2            0.078442       0.173933            0.094248       0.078605   \n",
       "3            0.035589       0.132133            0.042723       0.025225   \n",
       "4            0.021481       0.111393            0.020493       0.004557   \n",
       "\n",
       "   SO2_mean_2023  \n",
       "0       0.054604  \n",
       "1       0.018260  \n",
       "2       0.078605  \n",
       "3       0.025225  \n",
       "4       0.004557  "
      ]
     },
     "execution_count": 15,
     "metadata": {},
     "output_type": "execute_result"
    }
   ],
   "source": [
    "# Check the first few rows to verify the NO2 density values\n",
    "viet_provinces.head()"
   ]
  },
  {
   "cell_type": "markdown",
   "metadata": {},
   "source": [
    "All measures are in Dobson unit:\n",
    "\n",
    "The Dobson unit (DU) is a unit of measurement of the amount of a trace gas in a vertical column through the Earth's atmosphere."
   ]
  },
  {
   "cell_type": "code",
   "execution_count": 16,
   "metadata": {},
   "outputs": [],
   "source": [
    "viet_provinces.to_csv('vietnam_air_pollution_v2.csv', index=False)"
   ]
  },
  {
   "cell_type": "code",
   "execution_count": null,
   "metadata": {},
   "outputs": [],
   "source": []
  }
 ],
 "metadata": {
  "kernelspec": {
   "display_name": "Python 3",
   "language": "python",
   "name": "python3"
  },
  "language_info": {
   "codemirror_mode": {
    "name": "ipython",
    "version": 3
   },
   "file_extension": ".py",
   "mimetype": "text/x-python",
   "name": "python",
   "nbconvert_exporter": "python",
   "pygments_lexer": "ipython3",
   "version": "3.10.13"
  }
 },
 "nbformat": 4,
 "nbformat_minor": 2
}
